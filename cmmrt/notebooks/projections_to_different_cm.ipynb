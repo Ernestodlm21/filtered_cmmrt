{
 "cells": [
  {
   "cell_type": "markdown",
   "metadata": {
    "pycharm": {
     "name": "#%% md\n"
    }
   },
   "source": [
    "# Projections from predicted RTs to a different CM\n",
    "After successfully training a model with `train_with_rdkit.ipynb`, predictions for new molecules can be obtained. However, note that `train_with_rdkit.ipynb` train a Deep Neural Network on the SMRT dataset only. Hence, the resulting model can only accurately predict RTs for a Chromatographic Method (CM) identical to the one employed to collect the SMRT dataset.\n",
    "\n",
    "This notebook illustrates how to build a projection function able to map the predicted RTs to the RTs from a different CM. To build such a projection function, a set of known molecules whose RT has been measured is needed. We use the Pubchem ID to identify the molecules.\n",
    "\n",
    "Let us assume that the experimental RTs from a given CM are stored as the `cmm.csv` which is available under the `notebook_data` folder."
   ]
  },
  {
   "cell_type": "code",
   "execution_count": 49,
   "metadata": {
    "jupyter": {
     "outputs_hidden": false
    },
    "pycharm": {
     "name": "#%%\n"
    }
   },
   "outputs": [
    {
     "name": "stdout",
     "output_type": "stream",
     "text": [
      "          RT  Pubchem\n",
      "0  29.100000     <NA>\n",
      "1  45.580002     <NA>\n",
      "2  53.200001     2371\n",
      "3  20.870001     <NA>\n",
      "4  24.860001     <NA>\n"
     ]
    }
   ],
   "source": [
    "import pandas as pd\n",
    "\n",
    "experimental_data = pd.read_csv(\"notebooks_data/cmm.csv\", dtype={'RT': 'float32', 'Pubchem': 'Int64'})\n",
    "print(experimental_data.head())"
   ]
  },
  {
   "cell_type": "markdown",
   "metadata": {
    "pycharm": {
     "name": "#%% md\n"
    }
   },
   "source": [
    "Note that the identity of some molecules is known (probably pure standards added to the experiment) but not all the molecules are known. To try to identify them, we could try to use the RTs in conjunction with the m/z ratio (not shown in this notebook). The RTs can be compared with those stored in a large database of known molecules. However, as noted before, we first need to \"translate\" the experimental RTs to the RTs of the CM used to create the database. As an illustrative example, we shall use the predictions stored in the CEU Mass Mediator database, whose RTs are based on SMRT."
   ]
  },
  {
   "cell_type": "code",
   "execution_count": 50,
   "metadata": {
    "jupyter": {
     "outputs_hidden": false
    },
    "pycharm": {
     "name": "#%%\n"
    }
   },
   "outputs": [
    {
     "data": {
      "text/html": [
       "<div>\n",
       "<style scoped>\n",
       "    .dataframe tbody tr th:only-of-type {\n",
       "        vertical-align: middle;\n",
       "    }\n",
       "\n",
       "    .dataframe tbody tr th {\n",
       "        vertical-align: top;\n",
       "    }\n",
       "\n",
       "    .dataframe thead th {\n",
       "        text-align: right;\n",
       "    }\n",
       "</style>\n",
       "<table border=\"1\" class=\"dataframe\">\n",
       "  <thead>\n",
       "    <tr style=\"text-align: right;\">\n",
       "      <th></th>\n",
       "      <th>Pubchem</th>\n",
       "      <th>cmm_id</th>\n",
       "      <th>rt_pred</th>\n",
       "    </tr>\n",
       "  </thead>\n",
       "  <tbody>\n",
       "    <tr>\n",
       "      <th>0</th>\n",
       "      <td>647</td>\n",
       "      <td>1.0</td>\n",
       "      <td>11.084912</td>\n",
       "    </tr>\n",
       "    <tr>\n",
       "      <th>1</th>\n",
       "      <td>1195</td>\n",
       "      <td>2.0</td>\n",
       "      <td>10.149420</td>\n",
       "    </tr>\n",
       "    <tr>\n",
       "      <th>2</th>\n",
       "      <td>5281976</td>\n",
       "      <td>3.0</td>\n",
       "      <td>9.760773</td>\n",
       "    </tr>\n",
       "    <tr>\n",
       "      <th>3</th>\n",
       "      <td>445995</td>\n",
       "      <td>4.0</td>\n",
       "      <td>13.251669</td>\n",
       "    </tr>\n",
       "    <tr>\n",
       "      <th>4</th>\n",
       "      <td>5280528</td>\n",
       "      <td>5.0</td>\n",
       "      <td>13.251669</td>\n",
       "    </tr>\n",
       "  </tbody>\n",
       "</table>\n",
       "</div>"
      ],
      "text/plain": [
       "   Pubchem  cmm_id    rt_pred\n",
       "0      647     1.0  11.084912\n",
       "1     1195     2.0  10.149420\n",
       "2  5281976     3.0   9.760773\n",
       "3   445995     4.0  13.251669\n",
       "4  5280528     5.0  13.251669"
      ]
     },
     "execution_count": 50,
     "metadata": {},
     "output_type": "execute_result"
    }
   ],
   "source": [
    "from cmmrt.rt.predictions import load_cmm_predictions\n",
    "\n",
    "cmm = load_cmm_predictions()\n",
    "# Predictions are in seconds! Let's transform them to minutes\n",
    "cmm.rt_pred = cmm.rt_pred / 60\n",
    "cmm.head()"
   ]
  },
  {
   "cell_type": "markdown",
   "metadata": {
    "pycharm": {
     "name": "#%% md\n"
    }
   },
   "source": [
    "We use 1) the known molecules as `train_data` to create the projection function..."
   ]
  },
  {
   "cell_type": "code",
   "execution_count": 51,
   "metadata": {
    "jupyter": {
     "outputs_hidden": false
    },
    "pycharm": {
     "name": "#%%\n"
    }
   },
   "outputs": [
    {
     "name": "stdout",
     "output_type": "stream",
     "text": [
      "          RT  Pubchem    cmm_id    rt_pred\n",
      "0  53.200001     2371       NaN  20.237692\n",
      "1  46.349998   227033       NaN  16.488165\n",
      "2  21.299999     3405       NaN   9.884387\n",
      "3  26.090000   496377       NaN  11.969571\n",
      "4   5.900000    12025  124302.0   9.234078\n"
     ]
    }
   ],
   "source": [
    "# We make sure that the Pubchem column has the same type in both DataFrames\n",
    "train_data = experimental_data.merge(cmm.astype({'Pubchem': 'Int64'}), on='Pubchem')\n",
    "print(train_data.head())"
   ]
  },
  {
   "cell_type": "markdown",
   "metadata": {
    "pycharm": {
     "name": "#%% md\n"
    }
   },
   "source": [
    "... and 2) a pre-trained model to project the RTs. This model has been pre-trained on the PredRet dataset using meta-learning to incorporate useful inductive biases to it. We should not forget the direction of the projections which can be Predicted->Experimental ('p2e') or Experimental->Predicted ('e2p')."
   ]
  },
  {
   "cell_type": "code",
   "execution_count": null,
   "metadata": {},
   "outputs": [],
   "source": [
    "print(os.environ['LD_LIBRARY_PATH'])"
   ]
  },
  {
   "cell_type": "code",
   "execution_count": 53,
   "metadata": {
    "jupyter": {
     "outputs_hidden": false
    },
    "pycharm": {
     "name": "#%%\n"
    }
   },
   "outputs": [
    {
     "ename": "OSError",
     "evalue": "libcublas.so.11: cannot open shared object file: No such file or directory",
     "output_type": "error",
     "traceback": [
      "\u001b[0;31m---------------------------------------------------------------------------\u001b[0m",
      "\u001b[0;31mOSError\u001b[0m                                   Traceback (most recent call last)",
      "Cell \u001b[0;32mIn [53], line 1\u001b[0m\n\u001b[0;32m----> 1\u001b[0m \u001b[38;5;28;01mimport\u001b[39;00m \u001b[38;5;21;01mtorch\u001b[39;00m\n\u001b[1;32m      2\u001b[0m \u001b[38;5;28;01mimport\u001b[39;00m \u001b[38;5;21;01mimportlib_resources\u001b[39;00m\n\u001b[1;32m      3\u001b[0m \u001b[38;5;28;01mfrom\u001b[39;00m \u001b[38;5;21;01mcmmrt\u001b[39;00m\u001b[38;5;21;01m.\u001b[39;00m\u001b[38;5;21;01mprojection\u001b[39;00m\u001b[38;5;21;01m.\u001b[39;00m\u001b[38;5;21;01mmodels\u001b[39;00m\u001b[38;5;21;01m.\u001b[39;00m\u001b[38;5;21;01mprojector\u001b[39;00m\u001b[38;5;21;01m.\u001b[39;00m\u001b[38;5;21;01mloader\u001b[39;00m \u001b[38;5;28;01mimport\u001b[39;00m load_pretrained_projector_pipeline\n",
      "File \u001b[0;32m~/.local/lib/python3.9/site-packages/torch-1.13.0-py3.9-linux-x86_64.egg/torch/__init__.py:191\u001b[0m\n\u001b[1;32m    180\u001b[0m \u001b[38;5;28;01melse\u001b[39;00m:\n\u001b[1;32m    181\u001b[0m     \u001b[38;5;66;03m# Easy way.  You want this most of the time, because it will prevent\u001b[39;00m\n\u001b[1;32m    182\u001b[0m     \u001b[38;5;66;03m# C++ symbols from libtorch clobbering C++ symbols from other\u001b[39;00m\n\u001b[0;32m   (...)\u001b[0m\n\u001b[1;32m    188\u001b[0m     \u001b[38;5;66;03m#\u001b[39;00m\n\u001b[1;32m    189\u001b[0m     \u001b[38;5;66;03m# See Note [Global dependencies]\u001b[39;00m\n\u001b[1;32m    190\u001b[0m     \u001b[38;5;28;01mif\u001b[39;00m USE_GLOBAL_DEPS:\n\u001b[0;32m--> 191\u001b[0m         \u001b[43m_load_global_deps\u001b[49m\u001b[43m(\u001b[49m\u001b[43m)\u001b[49m\n\u001b[1;32m    192\u001b[0m     \u001b[38;5;28;01mfrom\u001b[39;00m \u001b[38;5;21;01mtorch\u001b[39;00m\u001b[38;5;21;01m.\u001b[39;00m\u001b[38;5;21;01m_C\u001b[39;00m \u001b[38;5;28;01mimport\u001b[39;00m \u001b[38;5;241m*\u001b[39m  \u001b[38;5;66;03m# noqa: F403\u001b[39;00m\n\u001b[1;32m    194\u001b[0m \u001b[38;5;66;03m# Appease the type checker; ordinarily this binding is inserted by the\u001b[39;00m\n\u001b[1;32m    195\u001b[0m \u001b[38;5;66;03m# torch._C module initialization code in C\u001b[39;00m\n",
      "File \u001b[0;32m~/.local/lib/python3.9/site-packages/torch-1.13.0-py3.9-linux-x86_64.egg/torch/__init__.py:153\u001b[0m, in \u001b[0;36m_load_global_deps\u001b[0;34m()\u001b[0m\n\u001b[1;32m    150\u001b[0m here \u001b[38;5;241m=\u001b[39m os\u001b[38;5;241m.\u001b[39mpath\u001b[38;5;241m.\u001b[39mabspath(\u001b[38;5;18m__file__\u001b[39m)\n\u001b[1;32m    151\u001b[0m lib_path \u001b[38;5;241m=\u001b[39m os\u001b[38;5;241m.\u001b[39mpath\u001b[38;5;241m.\u001b[39mjoin(os\u001b[38;5;241m.\u001b[39mpath\u001b[38;5;241m.\u001b[39mdirname(here), \u001b[38;5;124m'\u001b[39m\u001b[38;5;124mlib\u001b[39m\u001b[38;5;124m'\u001b[39m, lib_name)\n\u001b[0;32m--> 153\u001b[0m \u001b[43mctypes\u001b[49m\u001b[38;5;241;43m.\u001b[39;49m\u001b[43mCDLL\u001b[49m\u001b[43m(\u001b[49m\u001b[43mlib_path\u001b[49m\u001b[43m,\u001b[49m\u001b[43m \u001b[49m\u001b[43mmode\u001b[49m\u001b[38;5;241;43m=\u001b[39;49m\u001b[43mctypes\u001b[49m\u001b[38;5;241;43m.\u001b[39;49m\u001b[43mRTLD_GLOBAL\u001b[49m\u001b[43m)\u001b[49m\n",
      "File \u001b[0;32m/opt/ohpc/pub/apps/anaconda/2022.05/lib/python3.9/ctypes/__init__.py:382\u001b[0m, in \u001b[0;36mCDLL.__init__\u001b[0;34m(self, name, mode, handle, use_errno, use_last_error, winmode)\u001b[0m\n\u001b[1;32m    379\u001b[0m \u001b[38;5;28mself\u001b[39m\u001b[38;5;241m.\u001b[39m_FuncPtr \u001b[38;5;241m=\u001b[39m _FuncPtr\n\u001b[1;32m    381\u001b[0m \u001b[38;5;28;01mif\u001b[39;00m handle \u001b[38;5;129;01mis\u001b[39;00m \u001b[38;5;28;01mNone\u001b[39;00m:\n\u001b[0;32m--> 382\u001b[0m     \u001b[38;5;28mself\u001b[39m\u001b[38;5;241m.\u001b[39m_handle \u001b[38;5;241m=\u001b[39m \u001b[43m_dlopen\u001b[49m\u001b[43m(\u001b[49m\u001b[38;5;28;43mself\u001b[39;49m\u001b[38;5;241;43m.\u001b[39;49m\u001b[43m_name\u001b[49m\u001b[43m,\u001b[49m\u001b[43m \u001b[49m\u001b[43mmode\u001b[49m\u001b[43m)\u001b[49m\n\u001b[1;32m    383\u001b[0m \u001b[38;5;28;01melse\u001b[39;00m:\n\u001b[1;32m    384\u001b[0m     \u001b[38;5;28mself\u001b[39m\u001b[38;5;241m.\u001b[39m_handle \u001b[38;5;241m=\u001b[39m handle\n",
      "\u001b[0;31mOSError\u001b[0m: libcublas.so.11: cannot open shared object file: No such file or directory"
     ]
    }
   ],
   "source": [
    "import torch\n",
    "import importlib_resources\n",
    "from cmmrt.projection.models.projector.loader import load_pretrained_projector_pipeline\n",
    "\n",
    "projector = load_pretrained_projector_pipeline(direction=\"e2p\")\n",
    "\n",
    "# We can now fit the projector using train_data\n",
    "projector = projector.fit(\n",
    "    train_data.RT.to_numpy(),\n",
    "    train_data.rt_pred.to_numpy()\n",
    ")"
   ]
  },
  {
   "cell_type": "markdown",
   "metadata": {},
   "source": [
    "We can now find the \"SMRT RTs\" of all molecules (and not only those with known Pubchems):"
   ]
  },
  {
   "cell_type": "code",
   "execution_count": 20,
   "metadata": {
    "jupyter": {
     "outputs_hidden": false
    },
    "pycharm": {
     "name": "#%%\n"
    }
   },
   "outputs": [
    {
     "data": {
      "image/png": "[encoded data removed]",
      "text/plain": [
       "<Figure size 432x288 with 1 Axes>"
      ]
     },
     "metadata": {
      "needs_background": "light"
     },
     "output_type": "display_data"
    }
   ],
   "source": [
    "mean, lower_bound, upper_bound = projector.predict(experimental_data.RT.to_numpy())\n",
    "\n",
    "# Let's visualize the predictions\n",
    "import matplotlib.pyplot as plt\n",
    "import numpy as np\n",
    "%matplotlib inline\n",
    "\n",
    "plt.scatter(train_data.RT, train_data.rt_pred, c='r', label='training data')\n",
    "sorted_idx = np.argsort(experimental_data.RT.to_numpy().flatten())\n",
    "plt.plot(experimental_data.RT.to_numpy()[sorted_idx], mean[sorted_idx], c='g', label='pred. mean')\n",
    "plt.fill_between(experimental_data.RT.to_numpy()[sorted_idx],\n",
    "                 lower_bound[sorted_idx],\n",
    "                 upper_bound[sorted_idx],\n",
    "                 color='g', label='Confidence interval', alpha=0.2)\n",
    "plt.xlabel('Experimental RTs')\n",
    "plt.ylabel('SMRT-like RTs')\n",
    "plt.legend()\n",
    "plt.show()"
   ]
  },
  {
   "cell_type": "markdown",
   "metadata": {},
   "source": [
    "The predictions of SMRT-like RTs can now be saved in the experimental_data DataFrame for future use."
   ]
  },
  {
   "cell_type": "code",
   "execution_count": 21,
   "metadata": {},
   "outputs": [
    {
     "data": {
      "text/html": [
       "<div>\n",
       "<style scoped>\n",
       "    .dataframe tbody tr th:only-of-type {\n",
       "        vertical-align: middle;\n",
       "    }\n",
       "\n",
       "    .dataframe tbody tr th {\n",
       "        vertical-align: top;\n",
       "    }\n",
       "\n",
       "    .dataframe thead th {\n",
       "        text-align: right;\n",
       "    }\n",
       "</style>\n",
       "<table border=\"1\" class=\"dataframe\">\n",
       "  <thead>\n",
       "    <tr style=\"text-align: right;\">\n",
       "      <th></th>\n",
       "      <th>RT</th>\n",
       "      <th>Pubchem</th>\n",
       "      <th>smrt_rts</th>\n",
       "    </tr>\n",
       "  </thead>\n",
       "  <tbody>\n",
       "    <tr>\n",
       "      <th>0</th>\n",
       "      <td>29.100000</td>\n",
       "      <td>&lt;NA&gt;</td>\n",
       "      <td>11.451269</td>\n",
       "    </tr>\n",
       "    <tr>\n",
       "      <th>1</th>\n",
       "      <td>45.580002</td>\n",
       "      <td>&lt;NA&gt;</td>\n",
       "      <td>16.139566</td>\n",
       "    </tr>\n",
       "    <tr>\n",
       "      <th>2</th>\n",
       "      <td>53.200001</td>\n",
       "      <td>2371</td>\n",
       "      <td>19.194006</td>\n",
       "    </tr>\n",
       "    <tr>\n",
       "      <th>3</th>\n",
       "      <td>20.870001</td>\n",
       "      <td>&lt;NA&gt;</td>\n",
       "      <td>10.015942</td>\n",
       "    </tr>\n",
       "    <tr>\n",
       "      <th>4</th>\n",
       "      <td>24.860001</td>\n",
       "      <td>&lt;NA&gt;</td>\n",
       "      <td>10.634629</td>\n",
       "    </tr>\n",
       "  </tbody>\n",
       "</table>\n",
       "</div>"
      ],
      "text/plain": [
       "          RT  Pubchem   smrt_rts\n",
       "0  29.100000     <NA>  11.451269\n",
       "1  45.580002     <NA>  16.139566\n",
       "2  53.200001     2371  19.194006\n",
       "3  20.870001     <NA>  10.015942\n",
       "4  24.860001     <NA>  10.634629"
      ]
     },
     "execution_count": 21,
     "metadata": {},
     "output_type": "execute_result"
    }
   ],
   "source": [
    "experimental_data['smrt_rts'] = mean\n",
    "experimental_data.head()"
   ]
  }
 ],
 "metadata": {
  "kernelspec": {
   "display_name": "cmmrt_new",
   "language": "python",
   "name": "cmmrt_new"
  },
  "language_info": {
   "codemirror_mode": {
    "name": "ipython",
    "version": 3
   },
   "file_extension": ".py",
   "mimetype": "text/x-python",
   "name": "python",
   "nbconvert_exporter": "python",
   "pygments_lexer": "ipython3",
   "version": "3.9.12"
  }
 },
 "nbformat": 4,
 "nbformat_minor": 4
}
